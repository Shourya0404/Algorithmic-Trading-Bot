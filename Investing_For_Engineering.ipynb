{
 "cells": [
  {
   "cell_type": "markdown",
   "metadata": {},
   "source": [
    "### This Notebook has been written as part of the Group Project for ELEC4546 Investing and Trading for Engineering Students"
   ]
  },
  {
   "cell_type": "code",
   "execution_count": 1,
   "metadata": {},
   "outputs": [],
   "source": [
    "#!pip install stocktrends\n",
    "#!pip install numpy\n",
    "#!pip install pandas\n",
    "#!pip install matplotlib\n",
    "#!pip install statsmodels\n",
    "import numpy as np\n",
    "from stocktrends import Renko\n",
    "import statsmodels.api as sm\n",
    "import pandas as pd\n",
    "import datetime as dt\n",
    "import matplotlib.pyplot as plt\n",
    "import time"
   ]
  },
  {
   "cell_type": "markdown",
   "metadata": {},
   "source": [
    "### The following section implements functions for various technical indicators that are used in the industry.\n",
    "### These indicators will then be used to create strategies "
   ]
  },
  {
   "cell_type": "markdown",
   "metadata": {},
   "source": [
    "1. Moving Average Convergence Divergence (MACD)"
   ]
  },
  {
   "cell_type": "code",
   "execution_count": 2,
   "metadata": {},
   "outputs": [],
   "source": [
    "def MACD(DF,fast_MA,slow_MA,macd_signal_period):\n",
    "    \"\"\"function to calculate MACD\n",
    "       Returns the trend indicated: either bullish or bearish\n",
    "       typical values: fast_MA = 12; slow_MA =26, macd_signal_period =9\n",
    "       However, user can enter their own values\n",
    "       The exponential moving average has been used here to give more weightage to recent prices\"\"\"\n",
    "    df = DF.copy()\n",
    "    df[\"MA_Fast\"]=df[\"Adj Close\"].ewm(span=fast_MA,min_periods=fast_MA).mean() # fast moving average\n",
    "    df[\"MA_Slow\"]=df[\"Adj Close\"].ewm(span=slow_MA,min_periods=slow_MA).mean() # slow moving average\n",
    "    df[\"MACD\"]=df[\"MA_Fast\"]-df[\"MA_Slow\"] # MACD line\n",
    "    df[\"Signal\"]=df[\"MACD\"].ewm(span=macd_signal_period,min_periods=macd_signal_period).mean() # Signal Line\n",
    "    #df.dropna(inplace=True)\n",
    "    df[\"MACD_Shifted\"]=df[\"MACD\"].shift(1)\n",
    "    df[\"Signal_Shifted\"]=df[\"Signal\"].shift(1)\n",
    "    #df.dropna(inplace=True)\n",
    "    \n",
    "    df.loc[(df[\"MACD\"]>df[\"Signal\"]) & (df[\"MACD_Shifted\"]<df[\"Signal_Shifted\"]),'Trend']='Bullish'\n",
    "    df.loc[(df[\"MACD\"]<df[\"Signal\"]) & (df[\"MACD_Shifted\"]>df[\"Signal_Shifted\"]),'Trend']='Bearish'\n",
    "    return df[\"Trend\"]"
   ]
  },
  {
   "cell_type": "markdown",
   "metadata": {},
   "source": [
    "2. Average True Range (ATR)"
   ]
  },
  {
   "cell_type": "code",
   "execution_count": 3,
   "metadata": {},
   "outputs": [],
   "source": [
    "def ATR(DF,n):\n",
    "    \"\"\"function to calculate True Range and Average True Range\n",
    "       n is the period\"\"\"\n",
    "    df = DF.copy()\n",
    "    df['High-Low']=abs(df['High']-df['Low']) # Difference between high and low price\n",
    "    df['High-PreviousClose']=abs(df['High']-df['Adj Close'].shift(1)) # Difference between high and prev_close\n",
    "    df['Low-PreviousClose']=abs(df['Low']-df['Adj Close'].shift(1)) # Difference between low and prev_close\n",
    "    df['TR']=df[['High-Low','High-PreviousClose','Low-PreviousClose']].max(axis=1,skipna=False) # Take the maximum of the above 3\n",
    "    df['ATR'] = df['TR'].rolling(n).mean() # Calculate a rolling moving average based on the number of periods chosen by user\n",
    "    #df['ATR'] = df['TR'].ewm(span=n,adjust=False,min_periods=n).mean() Can also use an exponential moving average\n",
    "    df2 = df.drop(['High-Low','High-PreviousClose','Low-PreviousClose'],axis=1)\n",
    "    return df2"
   ]
  },
  {
   "cell_type": "markdown",
   "metadata": {},
   "source": [
    "3. Bollinger Bands"
   ]
  },
  {
   "cell_type": "code",
   "execution_count": 4,
   "metadata": {},
   "outputs": [],
   "source": [
    "def BollBnd(DF,n):\n",
    "    \"\"\"function to calculate Bollinger Band\n",
    "       n is the period\"\"\"\n",
    "    df = DF.copy()\n",
    "    df[\"MA\"] = df['Adj Close'].rolling(n).mean()\n",
    "    df[\"BB_up\"] = df[\"MA\"] + 2*df['Adj Close'].rolling(n).std(ddof=0) # We take a population standard deviation\n",
    "    df[\"BB_down\"] = df[\"MA\"] - 2*df['Adj Close'].rolling(n).std(ddof=0) # We take a population standard deviation\n",
    "    df[\"BB_width\"] = df[\"BB_up\"] - df[\"BB_down\"] # This gices the width of the Bollinger Band\n",
    "    df.dropna(inplace=True)\n",
    "    return df[\"BB_up\"],df[\"BB_down\"],df[\"BB_width\"]"
   ]
  },
  {
   "cell_type": "markdown",
   "metadata": {},
   "source": [
    "4. Relative Strength Index (RSI)"
   ]
  },
  {
   "cell_type": "code",
   "execution_count": 5,
   "metadata": {},
   "outputs": [],
   "source": [
    "def RSI(DF,n):\n",
    "    \"\"\"function to calculate RSI\n",
    "       n is the period\"\"\"\n",
    "    df = DF.copy()\n",
    "    df['delta']=df['Adj Close'] - df['Adj Close'].shift(1)\n",
    "    df['gain']=np.where(df['delta']>=0,df['delta'],0) # Gain if difference between close and previous close is positive\n",
    "    df['loss']=np.where(df['delta']<0,abs(df['delta']),0) # Loss if difference between close and previous close is negative\n",
    "    avg_gain = []\n",
    "    avg_loss = []\n",
    "    gain = df['gain'].tolist()\n",
    "    loss = df['loss'].tolist()\n",
    "    for i in range(len(df)):\n",
    "        if i < n:\n",
    "            avg_gain.append(np.NaN)\n",
    "            avg_loss.append(np.NaN)\n",
    "        elif i == n:\n",
    "            avg_gain.append(df['gain'].rolling(n).mean().tolist()[n])\n",
    "            avg_loss.append(df['loss'].rolling(n).mean().tolist()[n])\n",
    "        elif i > n:\n",
    "            avg_gain.append(((n-1)*avg_gain[i-1] + gain[i])/n)\n",
    "            avg_loss.append(((n-1)*avg_loss[i-1] + loss[i])/n)\n",
    "    df['avg_gain']=np.array(avg_gain)\n",
    "    df['avg_loss']=np.array(avg_loss)\n",
    "    df['RS'] = df['avg_gain']/df['avg_loss']\n",
    "    df['RSI'] = 100 - (100/(1+df['RS']))\n",
    "    return df['RSI']"
   ]
  },
  {
   "cell_type": "markdown",
   "metadata": {},
   "source": [
    "5. Average Directional Index (ADX)"
   ]
  },
  {
   "cell_type": "code",
   "execution_count": 6,
   "metadata": {},
   "outputs": [],
   "source": [
    "def ADX(DF,n):\n",
    "    \"\"\"function to calculate ADX\n",
    "       n is the period\n",
    "    \"\"\"\n",
    "     \n",
    "    df2 = DF.copy()\n",
    "    df2['TR'] = ATR(df2,n)['TR'] #the period parameter of ATR function does not matter because period does not influence TR calculation\n",
    "    df2['DMplus']=np.where((df2['High']-df2['High'].shift(1))>(df2['Low'].shift(1)-df2['Low']),df2['High']-df2['High'].shift(1),0)\n",
    "    df2['DMplus']=np.where(df2['DMplus']<0,0,df2['DMplus'])\n",
    "    df2['DMminus']=np.where((df2['Low'].shift(1)-df2['Low'])>(df2['High']-df2['High'].shift(1)),df2['Low'].shift(1)-df2['Low'],0)\n",
    "    df2['DMminus']=np.where(df2['DMminus']<0,0,df2['DMminus'])\n",
    "    TRn = []\n",
    "    DMplusN = []\n",
    "    DMminusN = []\n",
    "    TR = df2['TR'].tolist()\n",
    "    DMplus = df2['DMplus'].tolist()\n",
    "    DMminus = df2['DMminus'].tolist()\n",
    "    for i in range(len(df2)):\n",
    "        if i < n:\n",
    "            TRn.append(np.NaN)\n",
    "            DMplusN.append(np.NaN)\n",
    "            DMminusN.append(np.NaN)\n",
    "        elif i == n:\n",
    "            TRn.append(df2['TR'].rolling(n).sum().tolist()[n])\n",
    "            DMplusN.append(df2['DMplus'].rolling(n).sum().tolist()[n])\n",
    "            DMminusN.append(df2['DMminus'].rolling(n).sum().tolist()[n])\n",
    "        elif i > n:\n",
    "            TRn.append(TRn[i-1] - (TRn[i-1]/n) + TR[i])\n",
    "            DMplusN.append(DMplusN[i-1] - (DMplusN[i-1]/n) + DMplus[i])\n",
    "            DMminusN.append(DMminusN[i-1] - (DMminusN[i-1]/n) + DMminus[i])\n",
    "    df2['TRn'] = np.array(TRn)\n",
    "    df2['DMplusN'] = np.array(DMplusN)\n",
    "    df2['DMminusN'] = np.array(DMminusN)\n",
    "    df2['DIplusN']=100*(df2['DMplusN']/df2['TRn'])\n",
    "    df2['DIminusN']=100*(df2['DMminusN']/df2['TRn'])\n",
    "    df2['DIdiff']=abs(df2['DIplusN']-df2['DIminusN'])\n",
    "    df2['DIsum']=df2['DIplusN']+df2['DIminusN']\n",
    "    df2['DX']=100*(df2['DIdiff']/df2['DIsum'])\n",
    "    ADX = []\n",
    "    DX = df2['DX'].tolist()\n",
    "    for j in range(len(df2)):\n",
    "        if j < 2*n-1:\n",
    "            ADX.append(np.NaN)\n",
    "        elif j == 2*n-1:\n",
    "            ADX.append(df2['DX'][j-n+1:j+1].mean())\n",
    "        elif j > 2*n-1:\n",
    "            ADX.append(((n-1)*ADX[j-1] + DX[j])/n)\n",
    "    df2['ADX']=np.array(ADX)\n",
    "    return df2['ADX']"
   ]
  },
  {
   "cell_type": "markdown",
   "metadata": {},
   "source": [
    "6. On Balance Volume (OBV)"
   ]
  },
  {
   "cell_type": "code",
   "execution_count": 7,
   "metadata": {},
   "outputs": [],
   "source": [
    "def OBV(DF):\n",
    "    \"\"\"function to calculate On Balance Volume\"\"\"\n",
    "    df = DF.copy()\n",
    "    df['daily_ret'] = df['Adj Close'].pct_change()\n",
    "    df['direction'] = np.where(df['daily_ret']>=0,1,-1)\n",
    "    df['direction'][0] = 0\n",
    "    df['vol_adj'] = df['Volume'] * df['direction']\n",
    "    df['obv'] = df['vol_adj'].cumsum()\n",
    "    return df['obv']"
   ]
  },
  {
   "cell_type": "markdown",
   "metadata": {},
   "source": [
    "7. Calculating Slope of a Line with n points "
   ]
  },
  {
   "cell_type": "code",
   "execution_count": 8,
   "metadata": {},
   "outputs": [],
   "source": [
    "def slope(points,n):\n",
    "    \"function to calculate the slope of regression line for n consecutive points on a plot\"\n",
    "    slopes = [i*0 for i in range(n-1)]\n",
    "    for i in range(n,len(points)+1):\n",
    "        y = points[i-n:i]\n",
    "        x = np.array(range(n))\n",
    "        # Scaling to normalize the points \n",
    "        y_scaled = (y - y.min())/(y.max() - y.min())\n",
    "        x_scaled = (x - x.min())/(x.max() - x.min())\n",
    "        x_scaled = sm.add_constant(x_scaled)\n",
    "        model = sm.OLS(y_scaled,x_scaled)\n",
    "        results = model.fit() # Gives the best fit line\n",
    "        slopes.append(results.params[-1]) # This gives the slope in radians\n",
    "    slope_angle = (np.rad2deg(np.arctan(np.array(slopes)))) #Convert slope to degrees and then use tan inverse to get numerical value\n",
    "    return np.array(slope_angle)"
   ]
  },
  {
   "cell_type": "markdown",
   "metadata": {},
   "source": [
    "8. Renko Charts"
   ]
  },
  {
   "cell_type": "code",
   "execution_count": 9,
   "metadata": {},
   "outputs": [],
   "source": [
    "def renko_DF(DF):\n",
    "    \"function to convert ohlc data into renko bricks\"\n",
    "    df = DF.copy()\n",
    "    df.reset_index(inplace=True)\n",
    "    df = df.iloc[:,[0,1,2,3,4,5]]\n",
    "    df.columns = [\"date\",\"open\",\"close\",\"high\",\"low\",\"volume\"]\n",
    "    df2 = Renko(df)\n",
    "    df2.brick_size = round(ATR(DF,120)[\"ATR\"][-1],4)\n",
    "    renko_df = df2.get_bricks()\n",
    "    renko_df[\"bar_num\"] = np.where(renko_df[\"uptrend\"]==True,1,np.where(renko_df[\"uptrend\"]==False,-1,0))\n",
    "    for i in range(1,len(renko_df[\"bar_num\"])):\n",
    "        if renko_df[\"bar_num\"][i]>0 and renko_df[\"bar_num\"][i-1]>0:\n",
    "            renko_df[\"bar_num\"][i]+=renko_df[\"bar_num\"][i-1]\n",
    "        elif renko_df[\"bar_num\"][i]<0 and renko_df[\"bar_num\"][i-1]<0:\n",
    "            renko_df[\"bar_num\"][i]+=renko_df[\"bar_num\"][i-1]\n",
    "    renko_df.drop_duplicates(subset=\"date\",keep=\"last\",inplace=True)\n",
    "    return renko_df"
   ]
  },
  {
   "cell_type": "markdown",
   "metadata": {},
   "source": [
    "9. Stochastic Indicator"
   ]
  },
  {
   "cell_type": "code",
   "execution_count": 10,
   "metadata": {},
   "outputs": [],
   "source": [
    "def stochastic(df,a,b,c):\n",
    "    \"function to calculate stochastic\"\n",
    "    df['k']=((df['Adj Close'] - df['Low'].rolling(a).min())/(df['High'].rolling(a).max()-df['Low'].rolling(a).min()))*100\n",
    "    df['K']=df['k'].rolling(b).mean() \n",
    "    df['D']=df['K'].rolling(c).mean()\n",
    "    return df"
   ]
  },
  {
   "cell_type": "markdown",
   "metadata": {},
   "source": [
    "10. SMA Indicator"
   ]
  },
  {
   "cell_type": "code",
   "execution_count": 11,
   "metadata": {},
   "outputs": [],
   "source": [
    "def SMA(df,a,b):\n",
    "    \"function to calculate stochastic\"\n",
    "    df['sma_fast']=df['Adj Close'].rolling(a).mean() \n",
    "    df['sma_slow']=df['Adj Close'].rolling(b).mean() \n",
    "    return df"
   ]
  },
  {
   "cell_type": "markdown",
   "metadata": {},
   "source": [
    "### Next, some functions for performance metrics are implemented"
   ]
  },
  {
   "cell_type": "markdown",
   "metadata": {},
   "source": [
    "1. Cumulative Annual Growth Rate"
   ]
  },
  {
   "cell_type": "code",
   "execution_count": 12,
   "metadata": {},
   "outputs": [],
   "source": [
    "def CAGR(DF,x):\n",
    "    \"\"\"function to calculate the Cumulative Annual Growth Rate of a trading strategy\n",
    "       x is the number of times the strategy runs in a day\"\"\"\n",
    "    df = DF.copy()\n",
    "    df[\"cum_return\"] = (1 + df[\"Return\"]).cumprod()\n",
    "    n = len(df)/(252*x) \n",
    "    CAGR = (df[\"cum_return\"].tolist()[-1])**(1/n) - 1\n",
    "    return CAGR"
   ]
  },
  {
   "cell_type": "markdown",
   "metadata": {},
   "source": [
    "2. Volatility (Standard Deviation)"
   ]
  },
  {
   "cell_type": "code",
   "execution_count": 13,
   "metadata": {},
   "outputs": [],
   "source": [
    "def volatility(DF,x):\n",
    "    \"\"\"function to calculate annualized volatility of a trading strategy\n",
    "       x is the number of times the strategy will run in a day\"\"\"\n",
    "    df = DF.copy()\n",
    "    vol = df[\"Return\"].std() * np.sqrt(252*x)\n",
    "    return vol\n"
   ]
  },
  {
   "cell_type": "markdown",
   "metadata": {},
   "source": [
    "3. Sharpe Ratio"
   ]
  },
  {
   "cell_type": "code",
   "execution_count": 14,
   "metadata": {},
   "outputs": [],
   "source": [
    "def sharpe(DF,rf,x):\n",
    "    \"\"\"function to calculate sharpe ratio\n",
    "      rf is the risk free rate\n",
    "      x is the number of times the strategy will run in a day\"\"\"\n",
    "    df = DF.copy()\n",
    "    sr = (CAGR(df,x) - rf)/volatility(df,x)\n",
    "    return sr"
   ]
  },
  {
   "cell_type": "markdown",
   "metadata": {},
   "source": [
    "4. Maximum Drawdown"
   ]
  },
  {
   "cell_type": "code",
   "execution_count": 15,
   "metadata": {},
   "outputs": [],
   "source": [
    "def max_dd(DF):\n",
    "    \"function to calculate max drawdown\"\n",
    "    df = DF.copy()\n",
    "    df[\"cum_return\"] = (1 + df[\"Return\"]).cumprod()\n",
    "    df[\"cum_roll_max\"] = df[\"cum_return\"].cummax()\n",
    "    df[\"drawdown\"] = df[\"cum_roll_max\"] - df[\"cum_return\"]\n",
    "    df[\"drawdown_pct\"] = df[\"drawdown\"]/df[\"cum_roll_max\"]\n",
    "    max_dd = df[\"drawdown_pct\"].max()\n",
    "    return max_dd"
   ]
  },
  {
   "cell_type": "markdown",
   "metadata": {},
   "source": [
    "### Establish a connection with the OANDA Forex Trading Platform using their API"
   ]
  },
  {
   "cell_type": "code",
   "execution_count": 16,
   "metadata": {},
   "outputs": [
    {
     "name": "stdout",
     "output_type": "stream",
     "text": [
      "Requirement already satisfied: oandapyV20 in c:\\users\\samsung\\anaconda3\\lib\\site-packages (0.6.3)\n"
     ]
    }
   ],
   "source": [
    "!pip install oandapyV20\n",
    "import oandapyV20\n",
    "import oandapyV20.endpoints.instruments as instruments\n",
    "import oandapyV20.endpoints.pricing as pricing\n",
    "import oandapyV20.endpoints.accounts as accounts\n",
    "import oandapyV20.endpoints.orders as orders\n",
    "import oandapyV20.endpoints.trades as trades"
   ]
  },
  {
   "cell_type": "markdown",
   "metadata": {},
   "source": [
    "# Enter your OANDA Login Details here"
   ]
  },
  {
   "cell_type": "code",
   "execution_count": 17,
   "metadata": {},
   "outputs": [],
   "source": [
    "#initiating API connection and defining trade parameters\n",
    "token = \"0fcb2b978872704ea19d39f4505bf1d4-5b3a21e7af287feb8d9efc2a559c4448\"\n",
    "client = oandapyV20.API(token,environment=\"practice\")\n",
    "account_id = \"101-001-16805203-001\""
   ]
  },
  {
   "cell_type": "markdown",
   "metadata": {},
   "source": [
    "### Function to create a simple market order"
   ]
  },
  {
   "cell_type": "code",
   "execution_count": 18,
   "metadata": {},
   "outputs": [],
   "source": [
    "def market_order(instrument,units,account_id):\n",
    "    \"\"\"units can be positive or negative\"\"\"\n",
    "    \n",
    "    data = {\n",
    "            \"order\": {\n",
    "            \"price\": \"1.19\",\n",
    "            \"timeInForce\": \"GTC\",\n",
    "            \"instrument\": str(instrument),\n",
    "            \"units\": str(units),\n",
    "            \"type\": \"LIMIT\",\n",
    "            \"positionFill\": \"DEFAULT\"\n",
    "                    }\n",
    "            }\n",
    "    r = orders.OrderCreate(accountID=account_id, data=data)\n",
    "    client.request(r) "
   ]
  },
  {
   "cell_type": "markdown",
   "metadata": {},
   "source": [
    "### Function to pull Open, Low, High, Adj Close, and Volume Data from OANDA"
   ]
  },
  {
   "cell_type": "code",
   "execution_count": 19,
   "metadata": {},
   "outputs": [],
   "source": [
    "def candles(instrument):\n",
    "    params = {\"count\": \"1000\",\"granularity\": \"M5\"} #granularity can be in seconds S5 - S30, minutes M1 - M30, hours H1 - H12, days D, weeks W or months M\n",
    "    candles = instruments.InstrumentsCandles(instrument=instrument,params=params)\n",
    "    client.request(candles)\n",
    "    ohlc_dict = candles.response[\"candles\"]\n",
    "    ohlc = pd.DataFrame(ohlc_dict)\n",
    "    ohlc_df = ohlc.mid.dropna().apply(pd.Series)\n",
    "    ohlc_df[\"volume\"]=ohlc[\"volume\"]\n",
    "    ohlc_df.index = ohlc[\"time\"]\n",
    "    ohlc_df = ohlc_df.apply(pd.to_numeric)\n",
    "    ohlc_df.columns=[\"Open\",\"High\",\"Low\",\"Adj Close\",\"Volume\"]\n",
    "    return ohlc_df"
   ]
  },
  {
   "cell_type": "markdown",
   "metadata": {},
   "source": [
    "### Trading Account Details"
   ]
  },
  {
   "cell_type": "code",
   "execution_count": 20,
   "metadata": {},
   "outputs": [],
   "source": [
    "def account_details():\n",
    "    \"\"\" \n",
    "    Provides all details of the account such as:\n",
    "    1. Basic details: settings, account_id, created_Time, currency, balance, number of openPositions, OpenTrades and pendingOrders\n",
    "    2. Details of orders\n",
    "    3. Details of positions\n",
    "    4. Details of trades\"\"\"\n",
    "    r = accounts.AccountDetails(accountID=account_id)\n",
    "    client.request(r)\n",
    "    return r.response"
   ]
  },
  {
   "cell_type": "markdown",
   "metadata": {},
   "source": [
    "### Trading Account Summary"
   ]
  },
  {
   "cell_type": "code",
   "execution_count": 21,
   "metadata": {},
   "outputs": [],
   "source": [
    "def account_summary():\n",
    "    \"\"\"\n",
    "    Provides Basic details: settings, account_id, created_Time, currency, balance, number of openPositions, OpenTrades and \n",
    "    pendingOrders\n",
    "    \"\"\"\n",
    "    r = accounts.AccountSummary(accountID=account_id)\n",
    "    client.request(r)\n",
    "    return r.response"
   ]
  },
  {
   "cell_type": "markdown",
   "metadata": {},
   "source": [
    "### Check all open trades"
   ]
  },
  {
   "cell_type": "code",
   "execution_count": 22,
   "metadata": {},
   "outputs": [],
   "source": [
    "def trade():\n",
    "    r = trades.OpenTrades(accountID=account_id)\n",
    "    return client.request(r)"
   ]
  },
  {
   "cell_type": "markdown",
   "metadata": {},
   "source": [
    "### Strategy 1: SMA Crossover"
   ]
  },
  {
   "cell_type": "code",
   "execution_count": 27,
   "metadata": {},
   "outputs": [],
   "source": [
    "upward_sma_dir = {}\n",
    "dnward_sma_dir = {}\n",
    "pairs = ['EUR_USD','GBP_USD','AUD_USD','USD_JPY','EUR_GBP']\n",
    "for i in pairs:\n",
    "    upward_sma_dir[i] = False\n",
    "    dnward_sma_dir[i] = False"
   ]
  },
  {
   "cell_type": "code",
   "execution_count": 45,
   "metadata": {},
   "outputs": [],
   "source": [
    "def trade_signalSMA(df,curr):\n",
    "    \"function to generate signal\"\n",
    "    global upward_sma_dir, dnward_sma_dir\n",
    "    signal = \"\"\n",
    "    if df['sma_fast'][-1] < df['sma_slow'][-1] and df['sma_fast'][-2] < df['sma_slow'][-2]:\n",
    "        upward_sma_dir[curr] = True\n",
    "        dnward_sma_dir[curr] = False\n",
    "    if df['sma_fast'][-1] < df['sma_slow'][-1] and df['sma_fast'][-2] > df['sma_slow'][-2]:\n",
    "        upward_sma_dir[curr] = False\n",
    "        dnward_sma_dir[curr] = True  \n",
    "    if upward_sma_dir[curr] == True and min(df['K'][-1],df['D'][-1]) > 25 and max(df['K'][-2],df['D'][-2]) < 25:\n",
    "        signal = \"Buy\"\n",
    "    if dnward_sma_dir[curr] == True and min(df['K'][-1],df['D'][-1]) > 75 and max(df['K'][-2],df['D'][-2]) < 75:\n",
    "        signal = \"Sell\"\n",
    "    return signal"
   ]
  },
  {
   "cell_type": "markdown",
   "metadata": {},
   "source": [
    "### Strategy 2: MACD-ADX"
   ]
  },
  {
   "cell_type": "code",
   "execution_count": 42,
   "metadata": {},
   "outputs": [],
   "source": [
    "def trade_signalMACD_ADX(df):\n",
    "    signal=\"\"\n",
    "    if df['adx'][-1]>25 and df['macd'][-1]=='Bullish':\n",
    "        signal=\"Buy\"\n",
    "    if df['adx'][-1]>25 and df['macd'][-1]=='Bearish':\n",
    "        signal=\"Sell\"\n",
    "    return signal      "
   ]
  },
  {
   "cell_type": "markdown",
   "metadata": {},
   "source": [
    "### Running the Strategies"
   ]
  },
  {
   "cell_type": "code",
   "execution_count": 43,
   "metadata": {},
   "outputs": [],
   "source": [
    "def main(account_id):\n",
    "    pairs = ['EUR_USD','GBP_USD','AUD_USD','USD_JPY','EUR_GBP'] # Currency pairs selected\n",
    "    pos_size=10000\n",
    "    try:\n",
    "        for currency in pairs:\n",
    "            print(\"analyzing \",currency)\n",
    "            data = candles(currency)\n",
    "            ohlc_df_SMA=data.copy()\n",
    "            ohlc_df_SMA = stochastic(ohlc_df_SMA,14,3,3)\n",
    "            ohlc_df_SMA = SMA(ohlc_df_SMA,100,200)\n",
    "            SMAsignal = trade_signalSMA(ohlc_df_SMA,currency)\n",
    "            \n",
    "            ohlc_df_MACD_ADX=data.copy()\n",
    "            ohlc_df_MACD_ADX[\"macd\"]=MACD(ohlc_df_MACD_ADX,25,99,45)\n",
    "            ohlc_df_MACD_ADX[\"adx\"]=ADX(ohlc_df_MACD_ADX,20)\n",
    "\n",
    "           # print(ohlc_df_MACD_ADX)\n",
    "            MACD_ADX_Signal=trade_signalMACD_ADX(ohlc_df_MACD_ADX)\n",
    "           # print('MACD_ADX_Signal:',MACD_ADX_Signal)\n",
    "            \n",
    "            if SMAsignal == \"Buy\" or MACD_ADX_Signal==\"Buy\":\n",
    "                market_order(currency,pos_size,account_id)\n",
    "                print(\"New long position initiated for \", currency)\n",
    "            elif SMAsignal == \"Sell\" or MACD_ADX_Signal==\"Sell\":\n",
    "                market_order(currency,-1*pos_size, account_id)\n",
    "                print(\"New short position initiated for \", currency)\n",
    "    except:\n",
    "        print(\"error encountered....skipping this iteration\")"
   ]
  },
  {
   "cell_type": "markdown",
   "metadata": {},
   "source": [
    "# Fix this function to run the code every 5 minutes before deploying"
   ]
  },
  {
   "cell_type": "code",
   "execution_count": 44,
   "metadata": {
    "scrolled": false
   },
   "outputs": [
    {
     "name": "stdout",
     "output_type": "stream",
     "text": [
      "passthrough at  2020-11-19 20:20:21\n",
      "analyzing  EUR_USD\n",
      "New long position initiated for  EUR_USD\n",
      "analyzing  GBP_USD\n",
      "New long position initiated for  GBP_USD\n",
      "analyzing  AUD_USD\n",
      "New long position initiated for  AUD_USD\n",
      "analyzing  USD_JPY\n",
      "New long position initiated for  USD_JPY\n",
      "analyzing  EUR_GBP\n",
      "New long position initiated for  EUR_GBP\n"
     ]
    }
   ],
   "source": [
    "# Continuous execution\n",
    "#main(account_id)\n",
    "starttime=time.time()\n",
    "timeout = time.time() + 60*1  # 60 seconds times 60 meaning the script will run for 1 hr\n",
    "while time.time() <= timeout:\n",
    "    try:\n",
    "        print(\"passthrough at \",time.strftime('%Y-%m-%d %H:%M:%S', time.localtime(time.time())))\n",
    "        main(account_id)\n",
    "        time.sleep(60 - ((time.time() - starttime) % 60.0)) # 5 minute interval between each new execution\n",
    "    except KeyboardInterrupt:\n",
    "        print('\\n\\nKeyboard exception received. Exiting.')\n",
    "        exit()"
   ]
  },
  {
   "cell_type": "markdown",
   "metadata": {},
   "source": [
    "### Work to be done for final report:\n",
    "1. Pull trade history from OANDA \n",
    "2. Get P&L\n",
    "3. Visualize some of the data"
   ]
  },
  {
   "cell_type": "code",
   "execution_count": null,
   "metadata": {},
   "outputs": [],
   "source": []
  }
 ],
 "metadata": {
  "kernelspec": {
   "display_name": "Python 3",
   "language": "python",
   "name": "python3"
  },
  "language_info": {
   "codemirror_mode": {
    "name": "ipython",
    "version": 3
   },
   "file_extension": ".py",
   "mimetype": "text/x-python",
   "name": "python",
   "nbconvert_exporter": "python",
   "pygments_lexer": "ipython3",
   "version": "3.8.3"
  }
 },
 "nbformat": 4,
 "nbformat_minor": 4
}
