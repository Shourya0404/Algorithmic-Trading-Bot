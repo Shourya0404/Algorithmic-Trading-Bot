{
 "cells": [
  {
   "cell_type": "markdown",
   "metadata": {},
   "source": [
    "### This notebook is used to determine VaR of the currency portfolio assuming an equal weighting"
   ]
  },
  {
   "cell_type": "markdown",
   "metadata": {},
   "source": [
    "#### Import data, get necessary dataframe"
   ]
  },
  {
   "cell_type": "code",
   "execution_count": null,
   "metadata": {},
   "outputs": [],
   "source": [
    "import pandas as pd\n",
    "import numpy as np\n",
    "import datetime as dt\n",
    "    \n",
    "# Create our portfolio of forex, assing equal weighting \n",
    "Eur_USD=pd.read_csv(\"Eur_USD_VaR.csv\")\n",
    "GBP_USD=pd.read_csv(\"GBP_USD_VaR.csv\")\n",
    "AUD_USD=pd.read_csv(\"AUD_USD_VaR.csv\")\n",
    "USD_JPY=pd.read_csv(\"USD_JPY_VaR.csv\")\n",
    "EUR_GBP=pd.read_csv(\"EUR_GBP_VaR.csv\")\n",
    "\n",
    "# Set the investment weights (arbitrarily picked equal weighting)\n",
    "weights = np.array([.2,0.2,0.2,0.2,0.2])\n",
    " \n",
    "# Set an initial investment level\n",
    "initial_investment = 100000\n",
    "\n",
    "closing_prices=pd.DataFrame(Eur_USD['EURUSD Close'])\n",
    "closing_prices['GBPUSD Close']=GBP_USD['GBPUSD Close']\n",
    "closing_prices['AUDUSD Close']=AUD_USD['AUDUSD Close']\n",
    "closing_prices['USDJPY Close']=USD_JPY['USDJPY Close']\n",
    "closing_prices['EURGBP Close']=EUR_GBP['EURGBP Close']\n",
    " \n",
    "#From the closing prices, calculate periodic returns\n",
    "returns = closing_prices.pct_change()\n",
    "\n",
    "returns.tail()"
   ]
  },
  {
   "cell_type": "markdown",
   "metadata": {},
   "source": [
    "#### Generate Variance-Covariance Matrix"
   ]
  },
  {
   "cell_type": "code",
   "execution_count": 73,
   "metadata": {},
   "outputs": [
    {
     "data": {
      "text/html": [
       "<div>\n",
       "<style scoped>\n",
       "    .dataframe tbody tr th:only-of-type {\n",
       "        vertical-align: middle;\n",
       "    }\n",
       "\n",
       "    .dataframe tbody tr th {\n",
       "        vertical-align: top;\n",
       "    }\n",
       "\n",
       "    .dataframe thead th {\n",
       "        text-align: right;\n",
       "    }\n",
       "</style>\n",
       "<table border=\"1\" class=\"dataframe\">\n",
       "  <thead>\n",
       "    <tr style=\"text-align: right;\">\n",
       "      <th></th>\n",
       "      <th>EURUSD Close</th>\n",
       "      <th>GBPUSD Close</th>\n",
       "      <th>AUDUSD Close</th>\n",
       "      <th>USDJPY Close</th>\n",
       "      <th>EURGBP Close</th>\n",
       "    </tr>\n",
       "  </thead>\n",
       "  <tbody>\n",
       "    <tr>\n",
       "      <th>EURUSD Close</th>\n",
       "      <td>0.000021</td>\n",
       "      <td>0.000018</td>\n",
       "      <td>0.000019</td>\n",
       "      <td>-1.440461e-05</td>\n",
       "      <td>2.877340e-06</td>\n",
       "    </tr>\n",
       "    <tr>\n",
       "      <th>GBPUSD Close</th>\n",
       "      <td>0.000018</td>\n",
       "      <td>0.000046</td>\n",
       "      <td>0.000035</td>\n",
       "      <td>-1.505696e-05</td>\n",
       "      <td>-2.792097e-05</td>\n",
       "    </tr>\n",
       "    <tr>\n",
       "      <th>AUDUSD Close</th>\n",
       "      <td>0.000019</td>\n",
       "      <td>0.000035</td>\n",
       "      <td>0.000057</td>\n",
       "      <td>-8.607883e-06</td>\n",
       "      <td>-1.640851e-05</td>\n",
       "    </tr>\n",
       "    <tr>\n",
       "      <th>USDJPY Close</th>\n",
       "      <td>-0.000014</td>\n",
       "      <td>-0.000015</td>\n",
       "      <td>-0.000009</td>\n",
       "      <td>3.366376e-05</td>\n",
       "      <td>8.719134e-07</td>\n",
       "    </tr>\n",
       "    <tr>\n",
       "      <th>EURGBP Close</th>\n",
       "      <td>0.000003</td>\n",
       "      <td>-0.000028</td>\n",
       "      <td>-0.000016</td>\n",
       "      <td>8.719134e-07</td>\n",
       "      <td>3.063521e-05</td>\n",
       "    </tr>\n",
       "  </tbody>\n",
       "</table>\n",
       "</div>"
      ],
      "text/plain": [
       "              EURUSD Close  GBPUSD Close  AUDUSD Close  USDJPY Close  \\\n",
       "EURUSD Close      0.000021      0.000018      0.000019 -1.440461e-05   \n",
       "GBPUSD Close      0.000018      0.000046      0.000035 -1.505696e-05   \n",
       "AUDUSD Close      0.000019      0.000035      0.000057 -8.607883e-06   \n",
       "USDJPY Close     -0.000014     -0.000015     -0.000009  3.366376e-05   \n",
       "EURGBP Close      0.000003     -0.000028     -0.000016  8.719134e-07   \n",
       "\n",
       "              EURGBP Close  \n",
       "EURUSD Close  2.877340e-06  \n",
       "GBPUSD Close -2.792097e-05  \n",
       "AUDUSD Close -1.640851e-05  \n",
       "USDJPY Close  8.719134e-07  \n",
       "EURGBP Close  3.063521e-05  "
      ]
     },
     "execution_count": 73,
     "metadata": {},
     "output_type": "execute_result"
    }
   ],
   "source": [
    "# Generate Var-Cov matrix\n",
    "cov_matrix = returns.cov()\n",
    "cov_matrix"
   ]
  },
  {
   "cell_type": "markdown",
   "metadata": {},
   "source": [
    "#### Calculations"
   ]
  },
  {
   "cell_type": "code",
   "execution_count": null,
   "metadata": {},
   "outputs": [],
   "source": [
    "# Calculate mean returns for each stock\n",
    "avg_rets = returns.mean()\n",
    " \n",
    "# Calculate mean returns for portfolio overall, \n",
    "# using dot product to \n",
    "# normalize individual means against investment weights\n",
    " # https://en.wikipedia.org/wiki/Dot_product#:~:targetText=In%20mathematics%2C%20the%20dot%20product,and%20returns%20a%20single%20number.\n",
    "port_mean = avg_rets.dot(weights)\n",
    " \n",
    "# Calculate portfolio standard deviation\n",
    "port_stdev = np.sqrt(weights.T.dot(cov_matrix).dot(weights))\n",
    " \n",
    "# Calculate mean of investment\n",
    "mean_investment = (1+port_mean) * initial_investment\n",
    "             \n",
    "# Calculate standard deviation of investmnet\n",
    "stdev_investment = initial_investment * port_stdev"
   ]
  },
  {
   "cell_type": "markdown",
   "metadata": {},
   "source": [
    "#### Choose a confidence level of 95%"
   ]
  },
  {
   "cell_type": "code",
   "execution_count": 86,
   "metadata": {},
   "outputs": [],
   "source": [
    "# Select our confidence interval (I'll choose 99% here)\n",
    "conf_level1 = 0.05\n",
    "\n",
    "# Using SciPy ppf method to generate values for the\n",
    "# inverse cumulative distribution function to a normal distribution\n",
    "# Plugging in the mean, standard deviation of our portfolio\n",
    "# as calculated above\n",
    "# https://docs.scipy.org/doc/scipy/reference/generated/scipy.stats.norm.html\n",
    "from scipy.stats import norm\n",
    "cutoff1 = norm.ppf(conf_level1, mean_investment, stdev_investment)"
   ]
  },
  {
   "cell_type": "code",
   "execution_count": 87,
   "metadata": {},
   "outputs": [
    {
     "data": {
      "text/plain": [
       "450.341827512515"
      ]
     },
     "execution_count": 87,
     "metadata": {},
     "output_type": "execute_result"
    }
   ],
   "source": [
    "#Finally, we can calculate the VaR at our confidence interval\n",
    "var_1d1 = initial_investment - cutoff1\n",
    "var_1d1"
   ]
  },
  {
   "cell_type": "markdown",
   "metadata": {},
   "source": [
    "#### Estimate VaR for n days"
   ]
  },
  {
   "cell_type": "code",
   "execution_count": 98,
   "metadata": {},
   "outputs": [
    {
     "name": "stdout",
     "output_type": "stream",
     "text": [
      "1 day VaR @ 95% confidence: 450.34\n",
      "2 day VaR @ 95% confidence: 636.88\n",
      "3 day VaR @ 95% confidence: 780.01\n",
      "4 day VaR @ 95% confidence: 900.68\n",
      "5 day VaR @ 95% confidence: 1006.99\n",
      "6 day VaR @ 95% confidence: 1103.11\n",
      "7 day VaR @ 95% confidence: 1191.49\n",
      "8 day VaR @ 95% confidence: 1273.76\n",
      "9 day VaR @ 95% confidence: 1351.03\n",
      "10 day VaR @ 95% confidence: 1424.11\n",
      "11 day VaR @ 95% confidence: 1493.61\n",
      "12 day VaR @ 95% confidence: 1560.03\n",
      "13 day VaR @ 95% confidence: 1623.73\n",
      "14 day VaR @ 95% confidence: 1685.02\n",
      "15 day VaR @ 95% confidence: 1744.17\n",
      "16 day VaR @ 95% confidence: 1801.37\n",
      "17 day VaR @ 95% confidence: 1856.81\n",
      "18 day VaR @ 95% confidence: 1910.64\n",
      "19 day VaR @ 95% confidence: 1962.99\n",
      "20 day VaR @ 95% confidence: 2013.99\n",
      "21 day VaR @ 95% confidence: 2063.73\n",
      "22 day VaR @ 95% confidence: 2112.29\n",
      "23 day VaR @ 95% confidence: 2159.76\n",
      "24 day VaR @ 95% confidence: 2206.22\n",
      "25 day VaR @ 95% confidence: 2251.71\n",
      "26 day VaR @ 95% confidence: 2296.3\n",
      "27 day VaR @ 95% confidence: 2340.04\n",
      "28 day VaR @ 95% confidence: 2382.98\n",
      "29 day VaR @ 95% confidence: 2425.16\n",
      "30 day VaR @ 95% confidence: 2466.62\n",
      "31 day VaR @ 95% confidence: 2507.4\n",
      "32 day VaR @ 95% confidence: 2547.52\n",
      "33 day VaR @ 95% confidence: 2587.02\n",
      "34 day VaR @ 95% confidence: 2625.92\n",
      "35 day VaR @ 95% confidence: 2664.26\n",
      "36 day VaR @ 95% confidence: 2702.05\n",
      "37 day VaR @ 95% confidence: 2739.32\n",
      "38 day VaR @ 95% confidence: 2776.09\n",
      "39 day VaR @ 95% confidence: 2812.38\n",
      "40 day VaR @ 95% confidence: 2848.21\n",
      "41 day VaR @ 95% confidence: 2883.59\n",
      "42 day VaR @ 95% confidence: 2918.55\n",
      "43 day VaR @ 95% confidence: 2953.09\n",
      "44 day VaR @ 95% confidence: 2987.23\n",
      "45 day VaR @ 95% confidence: 3020.98\n",
      "46 day VaR @ 95% confidence: 3054.37\n",
      "47 day VaR @ 95% confidence: 3087.39\n",
      "48 day VaR @ 95% confidence: 3120.06\n",
      "49 day VaR @ 95% confidence: 3152.39\n",
      "50 day VaR @ 95% confidence: 3184.4\n",
      "51 day VaR @ 95% confidence: 3216.08\n",
      "52 day VaR @ 95% confidence: 3247.46\n",
      "53 day VaR @ 95% confidence: 3278.54\n",
      "54 day VaR @ 95% confidence: 3309.32\n",
      "55 day VaR @ 95% confidence: 3339.82\n",
      "56 day VaR @ 95% confidence: 3370.05\n",
      "57 day VaR @ 95% confidence: 3400.01\n",
      "58 day VaR @ 95% confidence: 3429.7\n",
      "59 day VaR @ 95% confidence: 3459.14\n",
      "60 day VaR @ 95% confidence: 3488.33\n",
      "61 day VaR @ 95% confidence: 3517.28\n",
      "62 day VaR @ 95% confidence: 3546.0\n",
      "63 day VaR @ 95% confidence: 3574.48\n",
      "64 day VaR @ 95% confidence: 3602.73\n",
      "65 day VaR @ 95% confidence: 3630.77\n",
      "66 day VaR @ 95% confidence: 3658.59\n",
      "67 day VaR @ 95% confidence: 3686.21\n",
      "68 day VaR @ 95% confidence: 3713.61\n",
      "69 day VaR @ 95% confidence: 3740.82\n",
      "70 day VaR @ 95% confidence: 3767.83\n",
      "71 day VaR @ 95% confidence: 3794.65\n",
      "72 day VaR @ 95% confidence: 3821.28\n",
      "73 day VaR @ 95% confidence: 3847.72\n",
      "74 day VaR @ 95% confidence: 3873.99\n",
      "75 day VaR @ 95% confidence: 3900.07\n",
      "76 day VaR @ 95% confidence: 3925.99\n",
      "77 day VaR @ 95% confidence: 3951.73\n",
      "78 day VaR @ 95% confidence: 3977.31\n",
      "79 day VaR @ 95% confidence: 4002.73\n",
      "80 day VaR @ 95% confidence: 4027.98\n",
      "81 day VaR @ 95% confidence: 4053.08\n",
      "82 day VaR @ 95% confidence: 4078.02\n",
      "83 day VaR @ 95% confidence: 4102.81\n",
      "84 day VaR @ 95% confidence: 4127.45\n",
      "85 day VaR @ 95% confidence: 4151.95\n",
      "86 day VaR @ 95% confidence: 4176.3\n",
      "87 day VaR @ 95% confidence: 4200.51\n",
      "88 day VaR @ 95% confidence: 4224.58\n",
      "89 day VaR @ 95% confidence: 4248.52\n",
      "90 day VaR @ 95% confidence: 4272.32\n",
      "91 day VaR @ 95% confidence: 4295.99\n",
      "92 day VaR @ 95% confidence: 4319.53\n",
      "93 day VaR @ 95% confidence: 4342.94\n",
      "94 day VaR @ 95% confidence: 4366.23\n",
      "95 day VaR @ 95% confidence: 4389.39\n",
      "96 day VaR @ 95% confidence: 4412.43\n",
      "97 day VaR @ 95% confidence: 4435.35\n",
      "98 day VaR @ 95% confidence: 4458.16\n",
      "99 day VaR @ 95% confidence: 4480.84\n",
      "100 day VaR @ 95% confidence: 4503.42\n",
      "101 day VaR @ 95% confidence: 4525.88\n",
      "102 day VaR @ 95% confidence: 4548.23\n",
      "103 day VaR @ 95% confidence: 4570.47\n",
      "104 day VaR @ 95% confidence: 4592.6\n",
      "105 day VaR @ 95% confidence: 4614.63\n",
      "106 day VaR @ 95% confidence: 4636.55\n",
      "107 day VaR @ 95% confidence: 4658.37\n",
      "108 day VaR @ 95% confidence: 4680.09\n",
      "109 day VaR @ 95% confidence: 4701.71\n",
      "110 day VaR @ 95% confidence: 4723.22\n",
      "111 day VaR @ 95% confidence: 4744.65\n",
      "112 day VaR @ 95% confidence: 4765.97\n",
      "113 day VaR @ 95% confidence: 4787.2\n",
      "114 day VaR @ 95% confidence: 4808.33\n",
      "115 day VaR @ 95% confidence: 4829.38\n",
      "116 day VaR @ 95% confidence: 4850.33\n",
      "117 day VaR @ 95% confidence: 4871.19\n",
      "118 day VaR @ 95% confidence: 4891.96\n",
      "119 day VaR @ 95% confidence: 4912.65\n",
      "120 day VaR @ 95% confidence: 4933.25\n",
      "121 day VaR @ 95% confidence: 4953.76\n",
      "122 day VaR @ 95% confidence: 4974.19\n",
      "123 day VaR @ 95% confidence: 4994.53\n",
      "124 day VaR @ 95% confidence: 5014.79\n",
      "125 day VaR @ 95% confidence: 5034.97\n",
      "126 day VaR @ 95% confidence: 5055.07\n",
      "127 day VaR @ 95% confidence: 5075.09\n",
      "128 day VaR @ 95% confidence: 5095.04\n",
      "129 day VaR @ 95% confidence: 5114.9\n",
      "130 day VaR @ 95% confidence: 5134.69\n",
      "131 day VaR @ 95% confidence: 5154.4\n",
      "132 day VaR @ 95% confidence: 5174.03\n",
      "133 day VaR @ 95% confidence: 5193.6\n",
      "134 day VaR @ 95% confidence: 5213.08\n",
      "135 day VaR @ 95% confidence: 5232.5\n",
      "136 day VaR @ 95% confidence: 5251.84\n",
      "137 day VaR @ 95% confidence: 5271.12\n",
      "138 day VaR @ 95% confidence: 5290.32\n",
      "139 day VaR @ 95% confidence: 5309.45\n",
      "140 day VaR @ 95% confidence: 5328.52\n",
      "141 day VaR @ 95% confidence: 5347.51\n",
      "142 day VaR @ 95% confidence: 5366.44\n",
      "143 day VaR @ 95% confidence: 5385.3\n",
      "144 day VaR @ 95% confidence: 5404.1\n",
      "145 day VaR @ 95% confidence: 5422.83\n",
      "146 day VaR @ 95% confidence: 5441.5\n",
      "147 day VaR @ 95% confidence: 5460.1\n",
      "148 day VaR @ 95% confidence: 5478.64\n",
      "149 day VaR @ 95% confidence: 5497.12\n",
      "150 day VaR @ 95% confidence: 5515.54\n",
      "151 day VaR @ 95% confidence: 5533.89\n",
      "152 day VaR @ 95% confidence: 5552.19\n",
      "153 day VaR @ 95% confidence: 5570.42\n",
      "154 day VaR @ 95% confidence: 5588.6\n",
      "155 day VaR @ 95% confidence: 5606.71\n",
      "156 day VaR @ 95% confidence: 5624.77\n",
      "157 day VaR @ 95% confidence: 5642.77\n",
      "158 day VaR @ 95% confidence: 5660.71\n",
      "159 day VaR @ 95% confidence: 5678.59\n",
      "160 day VaR @ 95% confidence: 5696.42\n",
      "161 day VaR @ 95% confidence: 5714.2\n",
      "162 day VaR @ 95% confidence: 5731.92\n",
      "163 day VaR @ 95% confidence: 5749.58\n",
      "164 day VaR @ 95% confidence: 5767.19\n",
      "165 day VaR @ 95% confidence: 5784.75\n",
      "166 day VaR @ 95% confidence: 5802.25\n",
      "167 day VaR @ 95% confidence: 5819.7\n",
      "168 day VaR @ 95% confidence: 5837.1\n",
      "169 day VaR @ 95% confidence: 5854.44\n",
      "170 day VaR @ 95% confidence: 5871.74\n",
      "171 day VaR @ 95% confidence: 5888.98\n",
      "172 day VaR @ 95% confidence: 5906.18\n",
      "173 day VaR @ 95% confidence: 5923.32\n",
      "174 day VaR @ 95% confidence: 5940.42\n",
      "175 day VaR @ 95% confidence: 5957.46\n",
      "176 day VaR @ 95% confidence: 5974.46\n",
      "177 day VaR @ 95% confidence: 5991.41\n",
      "178 day VaR @ 95% confidence: 6008.31\n",
      "179 day VaR @ 95% confidence: 6025.16\n",
      "180 day VaR @ 95% confidence: 6041.97\n",
      "181 day VaR @ 95% confidence: 6058.73\n",
      "182 day VaR @ 95% confidence: 6075.44\n",
      "183 day VaR @ 95% confidence: 6092.11\n",
      "184 day VaR @ 95% confidence: 6108.73\n",
      "185 day VaR @ 95% confidence: 6125.31\n",
      "186 day VaR @ 95% confidence: 6141.84\n",
      "187 day VaR @ 95% confidence: 6158.33\n",
      "188 day VaR @ 95% confidence: 6174.78\n",
      "189 day VaR @ 95% confidence: 6191.18\n",
      "190 day VaR @ 95% confidence: 6207.53\n",
      "191 day VaR @ 95% confidence: 6223.85\n",
      "192 day VaR @ 95% confidence: 6240.12\n",
      "193 day VaR @ 95% confidence: 6256.35\n",
      "194 day VaR @ 95% confidence: 6272.54\n",
      "195 day VaR @ 95% confidence: 6288.68\n",
      "196 day VaR @ 95% confidence: 6304.79\n",
      "197 day VaR @ 95% confidence: 6320.85\n",
      "198 day VaR @ 95% confidence: 6336.87\n",
      "199 day VaR @ 95% confidence: 6352.85\n",
      "200 day VaR @ 95% confidence: 6368.8\n",
      "201 day VaR @ 95% confidence: 6384.7\n",
      "202 day VaR @ 95% confidence: 6400.56\n",
      "203 day VaR @ 95% confidence: 6416.38\n",
      "204 day VaR @ 95% confidence: 6432.17\n",
      "205 day VaR @ 95% confidence: 6447.91\n",
      "206 day VaR @ 95% confidence: 6463.62\n",
      "207 day VaR @ 95% confidence: 6479.29\n",
      "208 day VaR @ 95% confidence: 6494.92\n",
      "209 day VaR @ 95% confidence: 6510.52\n",
      "210 day VaR @ 95% confidence: 6526.07\n",
      "211 day VaR @ 95% confidence: 6541.59\n",
      "212 day VaR @ 95% confidence: 6557.08\n",
      "213 day VaR @ 95% confidence: 6572.52\n",
      "214 day VaR @ 95% confidence: 6587.93\n",
      "215 day VaR @ 95% confidence: 6603.31\n",
      "216 day VaR @ 95% confidence: 6618.65\n",
      "217 day VaR @ 95% confidence: 6633.95\n",
      "218 day VaR @ 95% confidence: 6649.22\n",
      "219 day VaR @ 95% confidence: 6664.45\n",
      "220 day VaR @ 95% confidence: 6679.65\n",
      "221 day VaR @ 95% confidence: 6694.81\n",
      "222 day VaR @ 95% confidence: 6709.94\n",
      "223 day VaR @ 95% confidence: 6725.04\n",
      "224 day VaR @ 95% confidence: 6740.1\n",
      "225 day VaR @ 95% confidence: 6755.13\n",
      "226 day VaR @ 95% confidence: 6770.12\n",
      "227 day VaR @ 95% confidence: 6785.08\n",
      "228 day VaR @ 95% confidence: 6800.01\n",
      "229 day VaR @ 95% confidence: 6814.91\n",
      "230 day VaR @ 95% confidence: 6829.77\n",
      "231 day VaR @ 95% confidence: 6844.6\n",
      "232 day VaR @ 95% confidence: 6859.4\n",
      "233 day VaR @ 95% confidence: 6874.17\n",
      "234 day VaR @ 95% confidence: 6888.91\n",
      "235 day VaR @ 95% confidence: 6903.61\n",
      "236 day VaR @ 95% confidence: 6918.28\n",
      "237 day VaR @ 95% confidence: 6932.92\n",
      "238 day VaR @ 95% confidence: 6947.54\n",
      "239 day VaR @ 95% confidence: 6962.12\n",
      "240 day VaR @ 95% confidence: 6976.67\n",
      "241 day VaR @ 95% confidence: 6991.19\n",
      "242 day VaR @ 95% confidence: 7005.67\n",
      "243 day VaR @ 95% confidence: 7020.13\n",
      "244 day VaR @ 95% confidence: 7034.56\n",
      "245 day VaR @ 95% confidence: 7048.96\n",
      "246 day VaR @ 95% confidence: 7063.34\n",
      "247 day VaR @ 95% confidence: 7077.68\n",
      "248 day VaR @ 95% confidence: 7091.99\n",
      "249 day VaR @ 95% confidence: 7106.27\n",
      "250 day VaR @ 95% confidence: 7120.53\n",
      "251 day VaR @ 95% confidence: 7134.76\n",
      "252 day VaR @ 95% confidence: 7148.95\n",
      "253 day VaR @ 95% confidence: 7163.13\n",
      "254 day VaR @ 95% confidence: 7177.27\n",
      "255 day VaR @ 95% confidence: 7191.38\n",
      "256 day VaR @ 95% confidence: 7205.47\n",
      "257 day VaR @ 95% confidence: 7219.53\n",
      "258 day VaR @ 95% confidence: 7233.56\n",
      "259 day VaR @ 95% confidence: 7247.57\n",
      "260 day VaR @ 95% confidence: 7261.54\n",
      "261 day VaR @ 95% confidence: 7275.49\n",
      "262 day VaR @ 95% confidence: 7289.42\n",
      "263 day VaR @ 95% confidence: 7303.32\n",
      "264 day VaR @ 95% confidence: 7317.19\n",
      "265 day VaR @ 95% confidence: 7331.03\n",
      "266 day VaR @ 95% confidence: 7344.85\n",
      "267 day VaR @ 95% confidence: 7358.65\n",
      "268 day VaR @ 95% confidence: 7372.41\n",
      "269 day VaR @ 95% confidence: 7386.16\n",
      "270 day VaR @ 95% confidence: 7399.87\n",
      "271 day VaR @ 95% confidence: 7413.56\n",
      "272 day VaR @ 95% confidence: 7427.23\n",
      "273 day VaR @ 95% confidence: 7440.87\n",
      "274 day VaR @ 95% confidence: 7454.48\n",
      "275 day VaR @ 95% confidence: 7468.07\n",
      "276 day VaR @ 95% confidence: 7481.64\n",
      "277 day VaR @ 95% confidence: 7495.18\n",
      "278 day VaR @ 95% confidence: 7508.7\n",
      "279 day VaR @ 95% confidence: 7522.19\n",
      "280 day VaR @ 95% confidence: 7535.66\n",
      "281 day VaR @ 95% confidence: 7549.1\n",
      "282 day VaR @ 95% confidence: 7562.53\n",
      "283 day VaR @ 95% confidence: 7575.92\n",
      "284 day VaR @ 95% confidence: 7589.3\n",
      "285 day VaR @ 95% confidence: 7602.65\n",
      "286 day VaR @ 95% confidence: 7615.97\n",
      "287 day VaR @ 95% confidence: 7629.27\n",
      "288 day VaR @ 95% confidence: 7642.55\n",
      "289 day VaR @ 95% confidence: 7655.81\n",
      "290 day VaR @ 95% confidence: 7669.04\n",
      "291 day VaR @ 95% confidence: 7682.26\n",
      "292 day VaR @ 95% confidence: 7695.44\n",
      "293 day VaR @ 95% confidence: 7708.61\n",
      "294 day VaR @ 95% confidence: 7721.75\n",
      "295 day VaR @ 95% confidence: 7734.87\n",
      "296 day VaR @ 95% confidence: 7747.97\n",
      "297 day VaR @ 95% confidence: 7761.05\n",
      "298 day VaR @ 95% confidence: 7774.11\n",
      "299 day VaR @ 95% confidence: 7787.14\n",
      "300 day VaR @ 95% confidence: 7800.15\n",
      "301 day VaR @ 95% confidence: 7813.14\n",
      "302 day VaR @ 95% confidence: 7826.11\n",
      "303 day VaR @ 95% confidence: 7839.05\n",
      "304 day VaR @ 95% confidence: 7851.98\n",
      "305 day VaR @ 95% confidence: 7864.88\n",
      "306 day VaR @ 95% confidence: 7877.76\n",
      "307 day VaR @ 95% confidence: 7890.63\n",
      "308 day VaR @ 95% confidence: 7903.47\n",
      "309 day VaR @ 95% confidence: 7916.29\n",
      "310 day VaR @ 95% confidence: 7929.09\n",
      "311 day VaR @ 95% confidence: 7941.86\n",
      "312 day VaR @ 95% confidence: 7954.62\n",
      "313 day VaR @ 95% confidence: 7967.36\n",
      "314 day VaR @ 95% confidence: 7980.08\n",
      "315 day VaR @ 95% confidence: 7992.77\n",
      "316 day VaR @ 95% confidence: 8005.45\n",
      "317 day VaR @ 95% confidence: 8018.11\n",
      "318 day VaR @ 95% confidence: 8030.75\n",
      "319 day VaR @ 95% confidence: 8043.36\n",
      "320 day VaR @ 95% confidence: 8055.96\n",
      "321 day VaR @ 95% confidence: 8068.54\n",
      "322 day VaR @ 95% confidence: 8081.1\n",
      "323 day VaR @ 95% confidence: 8093.63\n",
      "324 day VaR @ 95% confidence: 8106.15\n",
      "325 day VaR @ 95% confidence: 8118.65\n",
      "326 day VaR @ 95% confidence: 8131.13\n",
      "327 day VaR @ 95% confidence: 8143.59\n",
      "328 day VaR @ 95% confidence: 8156.04\n",
      "329 day VaR @ 95% confidence: 8168.46\n",
      "330 day VaR @ 95% confidence: 8180.87\n",
      "331 day VaR @ 95% confidence: 8193.25\n",
      "332 day VaR @ 95% confidence: 8205.62\n",
      "333 day VaR @ 95% confidence: 8217.97\n",
      "334 day VaR @ 95% confidence: 8230.3\n",
      "335 day VaR @ 95% confidence: 8242.61\n",
      "336 day VaR @ 95% confidence: 8254.9\n",
      "337 day VaR @ 95% confidence: 8267.18\n",
      "338 day VaR @ 95% confidence: 8279.43\n",
      "339 day VaR @ 95% confidence: 8291.67\n",
      "340 day VaR @ 95% confidence: 8303.89\n",
      "341 day VaR @ 95% confidence: 8316.1\n",
      "342 day VaR @ 95% confidence: 8328.28\n",
      "343 day VaR @ 95% confidence: 8340.45\n",
      "344 day VaR @ 95% confidence: 8352.6\n",
      "345 day VaR @ 95% confidence: 8364.73\n",
      "346 day VaR @ 95% confidence: 8376.84\n",
      "347 day VaR @ 95% confidence: 8388.94\n",
      "348 day VaR @ 95% confidence: 8401.02\n",
      "349 day VaR @ 95% confidence: 8413.08\n",
      "350 day VaR @ 95% confidence: 8425.12\n",
      "351 day VaR @ 95% confidence: 8437.15\n",
      "352 day VaR @ 95% confidence: 8449.16\n",
      "353 day VaR @ 95% confidence: 8461.15\n",
      "354 day VaR @ 95% confidence: 8473.13\n",
      "355 day VaR @ 95% confidence: 8485.09\n",
      "356 day VaR @ 95% confidence: 8497.03\n",
      "357 day VaR @ 95% confidence: 8508.96\n",
      "358 day VaR @ 95% confidence: 8520.87\n",
      "359 day VaR @ 95% confidence: 8532.76\n",
      "360 day VaR @ 95% confidence: 8544.64\n",
      "361 day VaR @ 95% confidence: 8556.49\n",
      "362 day VaR @ 95% confidence: 8568.34\n",
      "363 day VaR @ 95% confidence: 8580.16\n",
      "364 day VaR @ 95% confidence: 8591.97\n",
      "365 day VaR @ 95% confidence: 8603.77\n"
     ]
    }
   ],
   "source": [
    "# Calculate n Day VaR\n",
    "var_array = []\n",
    "num_days = int(365)\n",
    "for x in range(1, num_days+1):    \n",
    "    var_array.append(np.round(var_1d1 * np.sqrt(x),2))\n",
    "    print(str(x) + \" day VaR @ 95% confidence: \" + str(np.round(var_1d1 * np.sqrt(x),2)))\n"
   ]
  },
  {
   "cell_type": "code",
   "execution_count": 91,
   "metadata": {},
   "outputs": [
    {
     "data": {
      "text/plain": [
       "[<matplotlib.lines.Line2D at 0x1df563954f0>]"
      ]
     },
     "execution_count": 91,
     "metadata": {},
     "output_type": "execute_result"
    },
    {
     "data": {
      "image/png": "[encoded data removed]",
      "text/plain": [
       "<Figure size 432x288 with 1 Axes>"
      ]
     },
     "metadata": {
      "needs_background": "light"
     },
     "output_type": "display_data"
    }
   ],
   "source": [
    "plt.xlabel(\"Day #\")\n",
    "plt.ylabel(\"Max portfolio loss (USD)\")\n",
    "plt.title(\"Max portfolio loss (VaR 1%) over 1 year period\")\n",
    "plt.plot(var_array, \"r\")"
   ]
  },
  {
   "cell_type": "code",
   "execution_count": 92,
   "metadata": {},
   "outputs": [
    {
     "data": {
      "image/png": "[encoded data removed]",
      "text/plain": [
       "<Figure size 432x288 with 1 Axes>"
      ]
     },
     "metadata": {
      "needs_background": "light"
     },
     "output_type": "display_data"
    }
   ],
   "source": [
    "# Repeat for each currency in portfolio\n",
    "x = np.linspace(port_mean - 3*port_stdev, port_mean+3*port_stdev,100)\n",
    "plt.hist(returns['EURUSD Close'],alpha=0.5)\n",
    "plt.plot(x, norm.pdf(x, port_mean, port_stdev), \"r\")\n",
    "plt.title(\"EURUSD returns (binned) vs. normal distribution\")\n",
    "plt.show()"
   ]
  },
  {
   "cell_type": "code",
   "execution_count": 93,
   "metadata": {},
   "outputs": [
    {
     "data": {
      "image/png": "[encoded data removed]",
      "text/plain": [
       "<Figure size 432x288 with 1 Axes>"
      ]
     },
     "metadata": {
      "needs_background": "light"
     },
     "output_type": "display_data"
    }
   ],
   "source": [
    "# Repeat for each currency in portfolio\n",
    "x = np.linspace(port_mean - 3*port_stdev, port_mean+3*port_stdev,100)\n",
    "plt.hist(returns['GBPUSD Close'],alpha=0.5)\n",
    "plt.plot(x, norm.pdf(x, port_mean, port_stdev), \"r\")\n",
    "plt.title(\"GBPUSD returns (binned) vs. normal distribution\")\n",
    "plt.show()"
   ]
  },
  {
   "cell_type": "code",
   "execution_count": 94,
   "metadata": {},
   "outputs": [
    {
     "data": {
      "image/png": "[encoded data removed]",
      "text/plain": [
       "<Figure size 432x288 with 1 Axes>"
      ]
     },
     "metadata": {
      "needs_background": "light"
     },
     "output_type": "display_data"
    }
   ],
   "source": [
    "# Repeat for each currency in portfolio\n",
    "x = np.linspace(port_mean - 3*port_stdev, port_mean+3*port_stdev,100)\n",
    "plt.hist(returns['AUDUSD Close'],alpha=0.5)\n",
    "plt.plot(x, norm.pdf(x, port_mean, port_stdev), \"r\")\n",
    "plt.title(\"AUDUSD returns (binned) vs. normal distribution\")\n",
    "plt.show()"
   ]
  },
  {
   "cell_type": "code",
   "execution_count": 95,
   "metadata": {},
   "outputs": [
    {
     "data": {
      "image/png": "[encoded data removed]",
      "text/plain": [
       "<Figure size 432x288 with 1 Axes>"
      ]
     },
     "metadata": {
      "needs_background": "light"
     },
     "output_type": "display_data"
    }
   ],
   "source": [
    "# Repeat for each currency in portfolio\n",
    "x = np.linspace(port_mean - 3*port_stdev, port_mean+3*port_stdev,100)\n",
    "plt.hist(returns['USDJPY Close'],alpha=0.5)\n",
    "plt.plot(x, norm.pdf(x, port_mean, port_stdev), \"r\")\n",
    "plt.title(\"USDJPY returns (binned) vs. normal distribution\")\n",
    "plt.show()"
   ]
  },
  {
   "cell_type": "code",
   "execution_count": 96,
   "metadata": {},
   "outputs": [
    {
     "data": {
      "image/png": "[encoded data removed]",
      "text/plain": [
       "<Figure size 432x288 with 1 Axes>"
      ]
     },
     "metadata": {
      "needs_background": "light"
     },
     "output_type": "display_data"
    }
   ],
   "source": [
    "# Repeat for each currency in portfolio\n",
    "x = np.linspace(port_mean - 3*port_stdev, port_mean+3*port_stdev,100)\n",
    "plt.hist(returns['EURGBP Close'],alpha=0.5)\n",
    "plt.plot(x, norm.pdf(x, port_mean, port_stdev), \"r\")\n",
    "plt.title(\"GBPEUR returns (binned) vs. normal distribution\")\n",
    "plt.show()"
   ]
  }
 ],
 "metadata": {
  "kernelspec": {
   "display_name": "Python 3",
   "language": "python",
   "name": "python3"
  },
  "language_info": {
   "codemirror_mode": {
    "name": "ipython",
    "version": 3
   },
   "file_extension": ".py",
   "mimetype": "text/x-python",
   "name": "python",
   "nbconvert_exporter": "python",
   "pygments_lexer": "ipython3",
   "version": "3.8.3"
  }
 },
 "nbformat": 4,
 "nbformat_minor": 4
}
